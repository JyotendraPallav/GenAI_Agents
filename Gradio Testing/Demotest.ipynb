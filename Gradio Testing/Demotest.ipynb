{
 "cells": [
  {
   "cell_type": "code",
   "execution_count": null,
   "id": "e45f854f",
   "metadata": {},
   "outputs": [],
   "source": [
    "import gradio as gr\n",
    "import pandas as pd"
   ]
  },
  {
   "cell_type": "code",
   "execution_count": null,
   "id": "1ab36658",
   "metadata": {},
   "outputs": [],
   "source": [
    "\n",
    "\n",
    "# df_store = {}  # dictionary to store file-wise dataframes\n",
    "\n",
    "# def read_csv(file_obj):\n",
    "#     try:\n",
    "#         file_obj.seek(0)  # important for notebook file input\n",
    "#         df = pd.read_csv(file_obj)\n",
    "#         df_store[\"df\"] = df\n",
    "#         return gr.update(visible=True), gr.update(visible=False), file_obj.name\n",
    "#     except Exception as e:\n",
    "#         return gr.update(visible=False), gr.update(visible=True), f\"Error: {str(e)}\"\n"
   ]
  },
  {
   "cell_type": "code",
   "execution_count": 25,
   "id": "63d14261",
   "metadata": {},
   "outputs": [],
   "source": [
    "def perform_basic_eda():\n",
    "    df = df_store.get(\"df\")\n",
    "    if df is None:\n",
    "        return \"No DataFrame loaded. Please upload a file first.\", gr.update(visible=False)\n",
    "\n",
    "    num_cols = df.select_dtypes(include=\"number\").columns.tolist()\n",
    "    cat_cols = df.select_dtypes(exclude=\"number\").columns.tolist()\n",
    "\n",
    "    eda_report = f\"\"\"\n",
    "### 📊 Basic EDA Summary\n",
    "\n",
    "- **Rows:** {df.shape[0]}\n",
    "- **Columns:** {df.shape[1]}\n",
    "- **Missing values:** {df.isnull().sum().sum()}\n",
    "- **Numeric columns:** {len(num_cols)} → {', '.join(num_cols)}\n",
    "- **Categorical columns:** {len(cat_cols)} → {', '.join(cat_cols)}\n",
    "\n",
    "#### 🔍 Sample Summary:\n",
    "{df.describe(include='all').transpose().round(2).to_markdown()}\n",
    "\"\"\"\n",
    "    return eda_report, gr.update(visible=True)\n"
   ]
  },
  {
   "cell_type": "code",
   "execution_count": 9,
   "id": "f2d2250d",
   "metadata": {},
   "outputs": [],
   "source": [
    "\n",
    "# Sample EDA output\n",
    "sample_eda = \"\"\"\n",
    "### Basic EDA Summary\n",
    "\n",
    "- **Rows:** 150  \n",
    "- **Columns:** 5  \n",
    "- **Missing Values:** 0  \n",
    "- **Numeric Columns:** 3  \n",
    "- **Categorical Columns:** 2  \n",
    "\n",
    "#### Column Overview:\n",
    "- `sepal_length`: Mean = 5.84, Std = 0.83  \n",
    "- `sepal_width`: Mean = 3.06, Std = 0.44  \n",
    "- `species`: 3 unique classes\n",
    "\"\"\""
   ]
  },
  {
   "cell_type": "code",
   "execution_count": 10,
   "id": "3bffc339",
   "metadata": {},
   "outputs": [],
   "source": [
    "# Sample response for Q&A\n",
    "sample_reasoning = \"\"\"\n",
    "**Step 1**: Identified numeric columns  \n",
    "**Step 2**: Applied aggregation functions  \n",
    "**Step 3**: Validated column distributions\n",
    "\"\"\""
   ]
  },
  {
   "cell_type": "code",
   "execution_count": 11,
   "id": "bd563c71",
   "metadata": {},
   "outputs": [],
   "source": [
    "sample_answer = \"\"\"\n",
    "The dataset shows that 'virginica' has the highest average petal length.\n",
    "\"\"\""
   ]
  },
  {
   "cell_type": "code",
   "execution_count": 12,
   "id": "47eb0259",
   "metadata": {},
   "outputs": [],
   "source": [
    "\n",
    "sample_questions = [\n",
    "    \"What is the average of each numeric column?\",\n",
    "    \"Which column has the most missing values?\",\n",
    "    \"What are the unique values in each categorical column?\",\n",
    "    \"Which column has highest correlation with target?\",\n",
    "    \"Give me summary statistics of the dataset.\"\n",
    "]"
   ]
  },
  {
   "cell_type": "code",
   "execution_count": 13,
   "id": "db0af3e5",
   "metadata": {},
   "outputs": [],
   "source": [
    "# Placeholder for file info\n",
    "file_info = {\n",
    "    \"name\": \"iris.csv\",\n",
    "    \"description\": \"Iris flower dataset\",\n",
    "    \"rows\": 150,\n",
    "    \"columns\": 5\n",
    "}"
   ]
  },
  {
   "cell_type": "code",
   "execution_count": 14,
   "id": "051417c7",
   "metadata": {},
   "outputs": [],
   "source": [
    "\n",
    "# ---- Functions ----\n",
    "\n",
    "# def upload_file(file):\n",
    "#     if file is None:\n",
    "#         return gr.update(visible=False), gr.update(visible=True), \"\"\n",
    "#     return gr.update(visible=True), gr.update(visible=False), file.name\n",
    "\n",
    "# def show_eda():\n",
    "#     return gr.update(value=sample_eda, visible=True), gr.update(visible=True)\n",
    "\n",
    "def move_to_qa():\n",
    "    return gr.update(visible=False), gr.update(visible=True)\n",
    "\n",
    "def ask_question(q):\n",
    "    return sample_reasoning, sample_answer\n",
    "\n",
    "def fill_question(q):\n",
    "    return q\n",
    "\n",
    "def get_question_func(q_text):\n",
    "    def return_q():\n",
    "        return q_text\n",
    "    return return_q\n"
   ]
  },
  {
   "cell_type": "code",
   "execution_count": 34,
   "id": "3f0339f5",
   "metadata": {},
   "outputs": [
    {
     "name": "stderr",
     "output_type": "stream",
     "text": [
      "c:\\Users\\A0262\\AppData\\Local\\miniconda3\\envs\\AgenticAI2025\\Lib\\site-packages\\gradio\\utils.py:1002: UserWarning: Expected 1 arguments for function <function fill_question at 0x0000020A79EB1940>, received 0.\n",
      "  warnings.warn(\n",
      "c:\\Users\\A0262\\AppData\\Local\\miniconda3\\envs\\AgenticAI2025\\Lib\\site-packages\\gradio\\utils.py:1006: UserWarning: Expected at least 1 arguments for function <function fill_question at 0x0000020A79EB1940>, received 0.\n",
      "  warnings.warn(\n"
     ]
    }
   ],
   "source": [
    "# ---- UI Blocks ----\n",
    "\n",
    "with gr.Blocks(title=\"ADA - AI-based Data Analyzer\") as demo:\n",
    "    uploaded_file = gr.State()\n",
    "    file_name = gr.State(value=file_info[\"name\"])\n",
    "\n",
    "    # ----------- Upload Screen -----------\n",
    "    with gr.Tab(label=\"Load Data\",visible=True) as upload_screen:\n",
    "        with gr.Column():\n",
    "            gr.Markdown(\"## 👋 Welcome to ADA\\nUpload a CSV file to get started.\")\n",
    "            file_input = gr.File(file_types=[\".csv\"], label=\"Upload your CSV file\")\n",
    "            submit_btn = gr.Button(\"Submit\")\n",
    "\n",
    "    # # # ----------- EDA Screen -----------\n",
    "    with gr.Tab(label=\"EDA\",visible=False) as eda_screen:\n",
    "        eda_btn = gr.Button(\"📊 Process the data and do Basic EDA\")\n",
    "        eda_output = gr.Markdown(visible=False)\n",
    "        next_btn = gr.Button(\"✅ If satisfied with the Data, let's move to Q&A\", visible=False)\n",
    "\n",
    "    # # ----------- Q&A Screen -----------\n",
    "    with gr.Tab(label=\"Questions & Answers\",visible=False) as qa_screen:\n",
    "        gr.Markdown(\"## ✨ Here happens the real magic\")\n",
    "        with gr.Row():\n",
    "            question_box = gr.Textbox(label=\"Ask your question on the data\", scale=4)\n",
    "            ask_btn = gr.Button(\"Find answers\", scale=1)\n",
    "        with gr.Row():\n",
    "            reasoning = gr.Markdown(\"🔍 *Reasoning will appear here*\")\n",
    "            answer = gr.Markdown(\"📌 *Answer will appear here*\")\n",
    "        with gr.Row():\n",
    "            question_buttons = []\n",
    "            for q in sample_questions:\n",
    "                btn = gr.Button(q)\n",
    "                btn.click(fn=fill_question, inputs=[], outputs=question_box)\n",
    "                question_buttons.append(btn)\n",
    "        with gr.Row():\n",
    "            gr.Markdown(f\"**File**: `{file_info['name']}` | 📝 {file_info['description']} | 📐 {file_info['rows']} rows × {file_info['columns']} columns\")\n",
    "\n",
    "    # ----------- Button Logic -----------\n",
    "    submit_btn.click(read_csv, inputs=file_input, outputs=[eda_screen, upload_screen, file_name])\n",
    "    # submit_btn.click(upload_file, inputs=file_input, outputs=[upload_screen, file_name])\n",
    "    eda_btn.click(perform_basic_eda, outputs=[eda_output, next_btn])\n",
    "    next_btn.click(move_to_qa, outputs=[eda_screen, qa_screen])\n",
    "    ask_btn.click(fn=ask_question, inputs=question_box, outputs=[reasoning, answer])\n",
    "\n",
    "    df_store = {}  # dictionary to store file-wise dataframes\n",
    "\n",
    "    def read_csv(file_obj):\n",
    "        try:\n",
    "            file_obj.seek(0)  # important for notebook file input\n",
    "            df = pd.read_csv(file_obj)\n",
    "            df_store[\"df\"] = df\n",
    "            return gr.update(visible=True), gr.update(visible=False), file_obj.name\n",
    "        except Exception as e:\n",
    "            return gr.update(visible=False), gr.update(visible=True), f\"Error: {str(e)}\"\n",
    "\n"
   ]
  },
  {
   "cell_type": "code",
   "execution_count": 35,
   "id": "3535deb5",
   "metadata": {},
   "outputs": [
    {
     "name": "stdout",
     "output_type": "stream",
     "text": [
      "Running on local URL:  http://127.0.0.1:7000\n",
      "\n",
      "To create a public link, set `share=True` in `launch()`.\n"
     ]
    },
    {
     "data": {
      "text/html": [
       "<div><iframe src=\"http://127.0.0.1:7000/\" width=\"100%\" height=\"500\" allow=\"autoplay; camera; microphone; clipboard-read; clipboard-write;\" frameborder=\"0\" allowfullscreen></iframe></div>"
      ],
      "text/plain": [
       "<IPython.core.display.HTML object>"
      ]
     },
     "metadata": {},
     "output_type": "display_data"
    }
   ],
   "source": [
    "# Run the app\n",
    "if __name__ == \"__main__\":\n",
    "    demo.launch(server_name=\"127.0.0.1\", server_port=7000, share=False)"
   ]
  },
  {
   "cell_type": "code",
   "execution_count": 36,
   "id": "bd3a6063",
   "metadata": {},
   "outputs": [
    {
     "name": "stdout",
     "output_type": "stream",
     "text": [
      "Closing server running on port: 7000\n"
     ]
    }
   ],
   "source": [
    "demo.close()"
   ]
  }
 ],
 "metadata": {
  "kernelspec": {
   "display_name": "AgenticAI2025",
   "language": "python",
   "name": "python3"
  },
  "language_info": {
   "codemirror_mode": {
    "name": "ipython",
    "version": 3
   },
   "file_extension": ".py",
   "mimetype": "text/x-python",
   "name": "python",
   "nbconvert_exporter": "python",
   "pygments_lexer": "ipython3",
   "version": "3.12.10"
  }
 },
 "nbformat": 4,
 "nbformat_minor": 5
}
